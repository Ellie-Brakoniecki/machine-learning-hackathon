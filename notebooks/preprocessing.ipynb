{
 "cells": [
  {
   "cell_type": "code",
   "execution_count": null,
   "metadata": {},
   "outputs": [],
   "source": [
    "import os\n",
    "import pandas as pd\n",
    "import matplotlib.pyplot as plt\n",
    "import seaborn as sns\n",
    "from sklearn.linear_model import LinearRegression\n",
    "from sklearn.model_selection import train_test_split\n",
    "sns.set_theme(font=\"Arial\")"
   ]
  },
  {
   "cell_type": "markdown",
   "metadata": {},
   "source": [
    "### Load data in"
   ]
  },
  {
   "cell_type": "code",
   "execution_count": null,
   "metadata": {},
   "outputs": [],
   "source": [
    "# Columns of interest\n",
    "independent_variables = [\"Year Remod/Add\", \"Overall Qual\", \"SalePrice\", \"Garage Cars\", \"Full Bath\", \"Total Bsmt SF\", \"Enclosed Porch\"]\n",
    "target_variable = \"Year Built\"\n",
    "\n",
    "# Load csv\n",
    "ames = pd.read_csv(\"../ames.csv\", index_col=0)[independent_variables + [target_variable]]\n",
    "\n",
    "# Separate into predictors and target datasets\n",
    "preds = ames[independent_variables]\n",
    "targets = ames[target_variable]\n",
    "\n",
    "# Replace NANs with median/mode\n",
    "for column in preds.columns:\n",
    "    if preds[column].dtype == \"object\":\n",
    "        preds[column].fillna(preds[column].mode()[0], inplace=True)\n",
    "    else:\n",
    "        preds[column].fillna(preds[column].median(), inplace=True)"
   ]
  },
  {
   "cell_type": "markdown",
   "metadata": {},
   "source": [
    "### Train Test Split\n"
   ]
  },
  {
   "cell_type": "code",
   "execution_count": null,
   "metadata": {},
   "outputs": [],
   "source": [
    "X_train, X_test, y_train, y_test = train_test_split(preds, targets, test_size = 0.2, random_state = 1)"
   ]
  },
  {
   "cell_type": "markdown",
   "metadata": {},
   "source": [
    "### Baseline Model: Linear Regression"
   ]
  },
  {
   "cell_type": "code",
   "execution_count": null,
   "metadata": {},
   "outputs": [],
   "source": [
    "\n",
    "model = LinearRegression()\n",
    "model.fit(X_train, y_train)\n",
    "print(f\"Training score:   {model.score(X_train, y_train)}\")\n",
    "print(f\"Validation score: {model.score(X_test, y_test)}\")"
   ]
  },
  {
   "cell_type": "markdown",
   "metadata": {},
   "source": []
  }
 ],
 "metadata": {
  "kernelspec": {
   "display_name": "env_name",
   "language": "python",
   "name": "python3"
  },
  "language_info": {
   "codemirror_mode": {
    "name": "ipython",
    "version": 3
   },
   "file_extension": ".py",
   "mimetype": "text/x-python",
   "name": "python",
   "nbconvert_exporter": "python",
   "pygments_lexer": "ipython3",
   "version": "3.9.15"
  }
 },
 "nbformat": 4,
 "nbformat_minor": 2
}
